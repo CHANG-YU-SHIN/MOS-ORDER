{
 "cells": [
  {
   "cell_type": "code",
   "execution_count": 31,
   "metadata": {},
   "outputs": [],
   "source": [
    "#建立視窗\n",
    "from tkinter import *\n",
    "window =Tk()\n",
    "window.title(\"摩斯點餐\")#視窗標題\n",
    "window.geometry(\"300x160\")#視窗大小\n",
    "label =Label(window,text=\"歡迎光臨\",  \n",
    "             bg='lightyellow',       #標籤背景是淺黃色\n",
    "             width=10)               #標籤寬度是10\n",
    "lab1=Label(window,text=\"漢堡\",relief=\"raised\")\n",
    "lab2=Label(window,text=\"米漢堡\",relief=\"raised\")\n",
    "lab3=Label(window,text=\"點心\",relief=\"raised\")\n",
    "lab4=Label(window,text=\"飲料\",relief=\"raised\")\n",
    "label.grid(row=1,column=0)\n",
    "lab1.grid(row=1,column=1)\n",
    "lab2.grid(row=1,column=2)\n",
    "lab3.grid(row=1,column=3)\n",
    "lab4.grid(row=1,column=4)\n",
    "\n",
    "window.mainloop()\n"
   ]
  },
  {
   "cell_type": "code",
   "execution_count": 23,
   "metadata": {},
   "outputs": [],
   "source": [
    "from tkinter import *\n",
    "\n",
    "def msgShow_hamburger1():\n",
    "    label[\"text\"]=\"摩斯鱈魚堡 70元\"\n",
    "    label[\"bg\"]=\"lightgreen\"\n",
    "    label[\"fg\"]=\"blue\"\n",
    "def msgShow_hamburger2():\n",
    "    label[\"text\"]=\"摩斯吉士漢堡 70元\"\n",
    "    label[\"bg\"]=\"lightgreen\"\n",
    "    label[\"fg\"]=\"blue\"\n",
    "def msgShow_hamburger3():\n",
    "    label[\"text\"]=\"蜜汁烤雞堡 70元\"\n",
    "    label[\"bg\"]=\"lightgreen\"\n",
    "    label[\"fg\"]=\"blue\"\n",
    "def msgShow_hamburger4():\n",
    "    label[\"text\"]=\"厚切培根和牛堡 100元\"\n",
    "    label[\"bg\"]=\"lightgreen\"\n",
    "    label[\"fg\"]=\"blue\"    \n",
    "    \n",
    "window =Tk()\n",
    "window.title(\"漢堡價格\")#視窗標題\n",
    "window.geometry(\"300x160\")\n",
    "label=Label(window)\n",
    "btn1=Button(window,text=\"摩斯鱈魚堡\",command=msgShow_hamburger1)\n",
    "btn2=Button(window,text=\"摩斯吉士漢堡\",command=msgShow_hamburger2)\n",
    "btn3=Button(window,text=\"蜜汁烤雞堡\",command=msgShow_hamburger3)\n",
    "btn4=Button(window,text=\"厚切培根和牛堡\",command=msgShow_hamburger4)\n",
    "btn5=Button(window,text=\"離開\",command=window.destroy)\n",
    "\n",
    "label.pack()\n",
    "btn1.pack()\n",
    "btn2.pack()\n",
    "btn3.pack()\n",
    "btn4.pack()\n",
    "btn5.pack()\n",
    "\n",
    "window.mainloop()"
   ]
  },
  {
   "cell_type": "code",
   "execution_count": null,
   "metadata": {},
   "outputs": [],
   "source": []
  },
  {
   "cell_type": "code",
   "execution_count": null,
   "metadata": {},
   "outputs": [],
   "source": []
  }
 ],
 "metadata": {
  "kernelspec": {
   "display_name": "Python 3",
   "language": "python",
   "name": "python3"
  },
  "language_info": {
   "codemirror_mode": {
    "name": "ipython",
    "version": 3
   },
   "file_extension": ".py",
   "mimetype": "text/x-python",
   "name": "python",
   "nbconvert_exporter": "python",
   "pygments_lexer": "ipython3",
   "version": "3.7.0"
  }
 },
 "nbformat": 4,
 "nbformat_minor": 2
}
