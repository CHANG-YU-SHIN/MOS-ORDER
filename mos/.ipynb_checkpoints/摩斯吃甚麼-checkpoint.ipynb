{
 "cells": [
  {
   "cell_type": "code",
   "execution_count": null,
   "metadata": {},
   "outputs": [],
   "source": [
    "from tkinter import *\n",
    "\n",
    "\n",
    "def printInfo():\n",
    "    selection=''\n",
    "    for i in checkboxes:                 #檢查此字典\n",
    "        if checkboxes[i].get()==True:    #被選取則執行\n",
    "            selection =selection+foods[i]+\"\\t\"\n",
    "    for i in checkboxes:                 #檢查此字典\n",
    "        if checkboxes[i].get()==True:    #被選取則執行\n",
    "            selection =selection+snacks[i]+\"\\t\"\n",
    "    for i in checkboxes:                 #檢查此字典\n",
    "        if checkboxes[i].get()==True:    #被選取則執行\n",
    "            selection =selection+drinks[i]+\"\\t\"\n",
    "            print(selection)\n",
    "            \n",
    "    \n",
    "window=Tk()\n",
    "window.title(\"摩斯吃什麼?\")\n",
    "\n",
    "\n",
    "label1=Label(window,text=\"~~請選擇主食~~\",fg=\"blue\",bg=\"lightyellow\",width=40).grid(row=0,column=0)\n",
    "label2=Label(window,text=\"~~請選擇點心~~\",fg=\"blue\",bg=\"lightgreen\",width=40).grid(row=0,column=1)\n",
    "label3=Label(window,text=\"~~請選擇飲料~~\",fg=\"blue\",bg=\"lightblue\",width=40).grid(row=0,column=2)\n",
    "\n",
    "\n",
    "foods={0:\"小漢堡\",1:\"小吉士\",2:\"摩斯吉士漢堡\",3:\"辣味摩斯吉士漢堡\",4:\"摩斯漢堡\",5:\"辣味摩斯漢堡\",\n",
    "       6:\"厚切培根和牛堡\",7:\"黃金炸蝦堡\",8:\"摘鮮綠黃金炸蝦堡\",9:\"蜜汁烤雞堡\",10:\"蜜汁烤雞起司堡\",11:\"摩斯鱈魚堡\"}\n",
    "snacks={0:\"雞腿天婦羅\",1:\"摩斯辣醬雞翅\",2:\"米斯球\",3:\"肉醬起司雙醬薯條\",4:\"紫薯栗子可樂餅\",5:\"和風雞腿塊\",6:\"MOS洋蔥圈\",7:\"和風炸雞\",\n",
    "        8:\"雞塊薯條點心組\",9:\"摩斯雞塊\",10:\"薯條(L)\",11:\"薯條(S)\",12:\"帶骨香腸\",13:\"方塊薯餅\",14:\"法蘭克熱狗\",15:\"北海道可樂餅\"}\n",
    "drinks={0:\"冰萃甘蔗綠茶\",1:\"芒果蒟蒻冰茶\",2:\"青梅蜜桃蒟蒻冰茶\",3:\"青梅蜜桃氣泡飲\",4:\"柚子冰茶\",5:\"100%新鮮橘子汁\",6:\"冰紅茶(L)\",\n",
    "        7:\"100%台灣冰綠茶(無糖)(L)\",8:\"冰紅茶(M)\",9:\"100%台灣冰綠茶(無糖)(M)\",10:\"可樂\",11:\"雪碧\",12:\"摩斯柑橘綜合果汁\",13:\"摩斯頻果汁\"}\n",
    "\n",
    "checkboxes={}\n",
    "for i in range(len(foods)):\n",
    "    checkboxes[i]=BooleanVar()\n",
    "    Checkbutton(window,text=foods[i],variable=checkboxes[i]).grid(row=i+1,column=0,sticky=W)\n",
    "\n",
    "for i in range(len(snacks)):\n",
    "    checkboxes[i]=BooleanVar()\n",
    "    Checkbutton(window,text=snacks[i],variable=checkboxes[i]).grid(row=i+1,column=1,sticky=W)\n",
    "for i in range(len(drinks)):\n",
    "    checkboxes[i]=BooleanVar()\n",
    "    Checkbutton(window,text=drinks[i],variable=checkboxes[i]).grid(row=i+1,column=2,sticky=W)\n",
    "    \n",
    "Button(window,text=\"確定\",width=10,command=printInfo).grid(row=i+4,column=1)\n",
    "\n",
    "\n",
    "\n",
    "window.mainloop()"
   ]
  },
  {
   "cell_type": "code",
   "execution_count": null,
   "metadata": {},
   "outputs": [],
   "source": []
  }
 ],
 "metadata": {
  "kernelspec": {
   "display_name": "Python 3",
   "language": "python",
   "name": "python3"
  },
  "language_info": {
   "codemirror_mode": {
    "name": "ipython",
    "version": 3
   },
   "file_extension": ".py",
   "mimetype": "text/x-python",
   "name": "python",
   "nbconvert_exporter": "python",
   "pygments_lexer": "ipython3",
   "version": "3.7.0"
  }
 },
 "nbformat": 4,
 "nbformat_minor": 2
}
